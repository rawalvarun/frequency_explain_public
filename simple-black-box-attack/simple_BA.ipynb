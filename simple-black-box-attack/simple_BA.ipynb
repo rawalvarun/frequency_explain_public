{
 "cells": [
  {
   "cell_type": "code",
   "execution_count": 1,
   "metadata": {
    "ExecuteTime": {
     "end_time": "2020-05-01T15:27:16.558714Z",
     "start_time": "2020-05-01T15:27:15.603695Z"
    }
   },
   "outputs": [],
   "source": [
    "import torchvision.models as models\n",
    "import torchvision.transforms as trans\n",
    "import torchvision.datasets as dset\n",
    "import torch\n",
    "from robustness import model_utils\n",
    "import dill\n",
    "from robustness import model_utils, datasets\n",
    "from user_constants import DATA_PATH_DICT"
   ]
  },
  {
   "cell_type": "code",
   "execution_count": 2,
   "metadata": {
    "ExecuteTime": {
     "end_time": "2020-05-01T15:27:16.987527Z",
     "start_time": "2020-05-01T15:27:16.979569Z"
    }
   },
   "outputs": [],
   "source": [
    "CIFAR_SIZE = 32\n",
    "CIFAR_MEAN = [0.4914, 0.4822, 0.4465]\n",
    "CIFAR_STD = [0.2023, 0.1994, 0.2010]\n",
    "\n",
    "# applies the normalization transformations\n",
    "def apply_normalization(imgs, dataset):\n",
    "    if dataset == 'imagenet':\n",
    "        mean = IMAGENET_MEAN\n",
    "        std = IMAGENET_STD\n",
    "    elif dataset == 'cifar':\n",
    "        mean = CIFAR_MEAN\n",
    "        std = CIFAR_STD\n",
    "    elif dataset == 'mnist':\n",
    "        mean = MNIST_MEAN\n",
    "        std = MNIST_STD\n",
    "    else:\n",
    "        mean = [0, 0, 0]\n",
    "        std = [1, 1, 1]\n",
    "    imgs_tensor = imgs.clone()\n",
    "    if dataset == 'mnist':\n",
    "        imgs_tensor = (imgs_tensor - mean[0]) / std[0]\n",
    "    else:\n",
    "        if imgs.dim() == 3:\n",
    "            for i in range(imgs_tensor.size(0)):\n",
    "                imgs_tensor[i, :, :] = (imgs_tensor[i, :, :] - mean[i]) / std[i]\n",
    "        else:\n",
    "            for i in range(imgs_tensor.size(1)):\n",
    "                imgs_tensor[:, i, :, :] = (imgs_tensor[:, i, :, :] - mean[i]) / std[i]\n",
    "    return imgs_tensor"
   ]
  },
  {
   "cell_type": "code",
   "execution_count": 3,
   "metadata": {
    "ExecuteTime": {
     "end_time": "2020-05-01T15:27:26.378543Z",
     "start_time": "2020-05-01T15:27:23.946134Z"
    }
   },
   "outputs": [
    {
     "name": "stdout",
     "output_type": "stream",
     "text": [
      "=> loading checkpoint './models/cifar_std.pt'\n",
      "=> loaded checkpoint './models/cifar_std.pt' (epoch 190)\n",
      "loading done\n"
     ]
    }
   ],
   "source": [
    "DATA = 'CIFAR'\n",
    "dataset_function = getattr(datasets, DATA)\n",
    "dataset = dataset_function(DATA_PATH_DICT[DATA])\n",
    "\n",
    "# Load model\n",
    "model_kwargs = {\n",
    "    'arch': 'resnet50',\n",
    "    'dataset': dataset,\n",
    "    'resume_path': f'./models/cifar_std.pt'\n",
    "}\n",
    "\n",
    "model, _ = model_utils.make_and_restore_model(**model_kwargs)\n",
    "model.cuda()\n",
    "model.eval()\n",
    "print('loading done')"
   ]
  },
  {
   "cell_type": "code",
   "execution_count": 25,
   "metadata": {
    "ExecuteTime": {
     "end_time": "2020-05-01T16:52:30.866610Z",
     "start_time": "2020-05-01T16:52:30.828062Z"
    },
    "scrolled": true
   },
   "outputs": [
    {
     "name": "stdout",
     "output_type": "stream",
     "text": [
      "tensor([1.0000, 1.0000, 1.0000, 1.0000, 1.0000, 1.0000, 1.0000, 1.0000, 1.0000,\n",
      "        1.0000])\n",
      "tensor([1.0011, 0.9969, 0.9790, 1.0212, 0.9986, 1.0018, 1.0003, 1.0004, 1.0001,\n",
      "        1.0007])\n"
     ]
    }
   ],
   "source": [
    "\n",
    "CIFAR_TRANSFORM = trans.Compose([trans.ToTensor()])\n",
    "testset = dset.ImageFolder('./cifar10/smalltest', CIFAR_TRANSFORM)\n",
    "\n",
    "image_size = 32\n",
    "images = torch.zeros(10, 3, image_size, image_size)\n",
    "labels = torch.zeros(10).long()\n",
    "predictions = torch.zeros(10).long()\n",
    "\n",
    "idx = torch.arange(0, images.size(0)).long()\n",
    "for i in list(idx):\n",
    "    images[i], labels[i] = testset[i]\n",
    "\n",
    "# input_images = apply_normalization(images, 'cifar')[:5]\n",
    "\n",
    "# with torch.no_grad():\n",
    "#     output = torch.nn.Softmax().forward(model.forward(input_images.cuda()))\n",
    "# prob, pred = output.max(1)\n",
    "\n",
    "    \n",
    "def get_probs(model, x, y):\n",
    "    with torch.no_grad():\n",
    "        output, _ = model(x.cuda())\n",
    "    probs = torch.index_select(torch.nn.Softmax()(output).cpu(), 1, y)\n",
    "    return torch.diag(probs)\n",
    "\n",
    "def get_preds(model, x):\n",
    "    # Don't need to normalize again since we use robustness's model\n",
    "    # output = model(normalize(torch.autograd.Variable(x.cuda()))).cpu()\n",
    "    with torch.no_grad():\n",
    "        output, _ = model(x.cuda())\n",
    "    _, preds = output.cpu().max(1)\n",
    "    # _, preds = output.data.max(1)\n",
    "    return preds\n",
    "\n",
    "\n",
    "with torch.no_grad():\n",
    "    output, _ = model(images.cuda())\n",
    "\n",
    "probs1 = torch.nn.Softmax(dim=0)(output).cpu()\n",
    "probs2 = torch.nn.Softmax(dim=1)(output).cpu()\n",
    "print(probs1.sum(dim=0))\n",
    "print(probs2.sum(dim=0))"
   ]
  }
 ],
 "metadata": {
  "kernelspec": {
   "display_name": "Python 3",
   "language": "python",
   "name": "python3"
  },
  "language_info": {
   "codemirror_mode": {
    "name": "ipython",
    "version": 3
   },
   "file_extension": ".py",
   "mimetype": "text/x-python",
   "name": "python",
   "nbconvert_exporter": "python",
   "pygments_lexer": "ipython3",
   "version": "3.6.8"
  },
  "toc": {
   "base_numbering": 1,
   "nav_menu": {},
   "number_sections": true,
   "sideBar": true,
   "skip_h1_title": false,
   "title_cell": "Table of Contents",
   "title_sidebar": "Contents",
   "toc_cell": false,
   "toc_position": {},
   "toc_section_display": true,
   "toc_window_display": false
  },
  "varInspector": {
   "cols": {
    "lenName": 16,
    "lenType": 16,
    "lenVar": 40
   },
   "kernels_config": {
    "python": {
     "delete_cmd_postfix": "",
     "delete_cmd_prefix": "del ",
     "library": "var_list.py",
     "varRefreshCmd": "print(var_dic_list())"
    },
    "r": {
     "delete_cmd_postfix": ") ",
     "delete_cmd_prefix": "rm(",
     "library": "var_list.r",
     "varRefreshCmd": "cat(var_dic_list()) "
    }
   },
   "types_to_exclude": [
    "module",
    "function",
    "builtin_function_or_method",
    "instance",
    "_Feature"
   ],
   "window_display": false
  }
 },
 "nbformat": 4,
 "nbformat_minor": 2
}
